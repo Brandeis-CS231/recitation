{
 "cells": [
  {
   "cell_type": "markdown",
   "id": "76465e7b-bb92-4506-8b69-201432b0d89c",
   "metadata": {},
   "source": [
    "# Recitation 1: PyTorch tutorial\n",
    "_Date_: 2025-09-04"
   ]
  },
  {
   "cell_type": "markdown",
   "id": "355712a3-625b-43c5-90ee-cb66303e0c64",
   "metadata": {},
   "source": [
    "## Tensor"
   ]
  },
  {
   "cell_type": "markdown",
   "id": "d00542d1-7389-4170-be04-77bbc0d09a6c",
   "metadata": {
    "jp-MarkdownHeadingCollapsed": true
   },
   "source": [
    "### Introduction\n",
    "In a computational perspective, a tensor is a data structure that represents a multi-dimensional array. Terms \"vector\", \"matrix\" sound more familiar than \"tensor\". In fact, \"tensor\" is a more general term describing both vector and matrix. That is,\n",
    "\n",
    "* vector is a one-dimensional tensor $\\mathbb{R}^{n}$: $$\\mathbf{x} = [1, 5, 9]$$\n",
    "* matrix is a two-dimensional tensor $\\mathbb{R}^{n \\times m}$: $$X = \\begin{bmatrix} 2 & 4 & 6 \\\\ 7 & 10 & 3\\end{bmatrix} = \\begin{bmatrix} \\text{---} & \\mathbf{x_1} & \\text{---} \\\\ \\text{---} & \\mathbf{x_2} & \\text{---} \\end{bmatrix}$$\n",
    "* A three-dimensional tensor is $\\mathbb{R}^{n \\times m \\times k}$\n",
    "\n",
    "### PyTorch's tensor\n",
    "Implementation-wise, it's similar to Numpy's `ndarray`, but adds more features to adapt deep learning concepts:\n",
    "* `autograd` for back propagation updating weights of a neural net\n",
    "* store tensors in GPU memory for matrix multiplications in parallel"
   ]
  },
  {
   "cell_type": "markdown",
   "id": "834bda42-f594-45fa-9d3d-46fd79b7ec25",
   "metadata": {},
   "source": [
    "### Exercise: `torch` basics"
   ]
  },
  {
   "cell_type": "code",
   "execution_count": 1,
   "id": "a69b918b-921d-4b4e-8d9d-7e727f6eca03",
   "metadata": {},
   "outputs": [],
   "source": [
    "import torch"
   ]
  },
  {
   "cell_type": "code",
   "execution_count": 2,
   "id": "10872d12-5f9b-4a16-9a70-e55273a6120e",
   "metadata": {},
   "outputs": [
    {
     "name": "stdout",
     "output_type": "stream",
     "text": [
      "v:\n",
      "-----\n",
      "tensor([1, 7, 9]), shape:torch.Size([3]), dimensions: 1\n",
      "\n",
      "X:\n",
      "-----\n",
      "tensor([[1, 2],\n",
      "        [3, 4]]), shape:torch.Size([2, 2]), dimensions: 2\n",
      "\n",
      "T:\n",
      "-----\n",
      "tensor([[[1, 2],\n",
      "         [3, 4]],\n",
      "\n",
      "        [[5, 6],\n",
      "         [7, 8]]]), shape:torch.Size([2, 2, 2]), dimensions: 3\n"
     ]
    }
   ],
   "source": [
    "# Exercise 1: Intialize a tensor\n",
    "v = torch.tensor([1, 7, 9])  # vector\n",
    "X = torch.tensor([[1, 2], [3, 4]])  # matrix\n",
    "T = torch.tensor(\n",
    "    [\n",
    "        [[1, 2], [3, 4]],\n",
    "        [[5, 6], [7, 8]],\n",
    "    ])  # 3-dimensional tensor\n",
    "\n",
    "print(f\"v:\\n{'-' * 5}\\n{v}, shape:{v.shape}, dimensions: {v.ndim}\")\n",
    "print(f\"\\nX:\\n{'-' * 5}\\n{X}, shape:{X.shape}, dimensions: {X.ndim}\")\n",
    "print(f\"\\nT:\\n{'-' * 5}\\n{T}, shape:{T.shape}, dimensions: {T.ndim}\")"
   ]
  },
  {
   "cell_type": "code",
   "execution_count": 3,
   "id": "4cc652a9-5310-4f87-9cb5-20ab9a7515da",
   "metadata": {},
   "outputs": [
    {
     "name": "stdout",
     "output_type": "stream",
     "text": [
      "ones:\n",
      "-----\n",
      "tensor([[1., 1.],\n",
      "        [1., 1.]])\n",
      "\n",
      "zeros:\n",
      "-----\n",
      "tensor([[0., 0.],\n",
      "        [0., 0.]])\n",
      "\n",
      "random:\n",
      "-----\n",
      "tensor([[0.2347, 0.7301],\n",
      "        [0.5594, 0.6016]])\n"
     ]
    }
   ],
   "source": [
    "# Exercise 2: Random or constant tensor\n",
    "ones_tensor = torch.ones(2, 2)  # tensor with all ones\n",
    "zeros_tensor = torch.zeros(2, 2) # tensor with all zeros\n",
    "rand_tensor = torch.rand(2, 2)  # tensor with random values\n",
    "\n",
    "print(f\"ones:\\n{'-' * 5}\\n{ones_tensor}\")\n",
    "print(f\"\\nzeros:\\n{'-' * 5}\\n{zeros_tensor}\")\n",
    "print(f\"\\nrandom:\\n{'-' * 5}\\n{rand_tensor}\")"
   ]
  },
  {
   "cell_type": "code",
   "execution_count": 4,
   "id": "02153fae-6bdb-4013-acf2-f855d3ea8a47",
   "metadata": {},
   "outputs": [
    {
     "name": "stdout",
     "output_type": "stream",
     "text": [
      "Shape of tensor: torch.Size([3, 4])\n",
      "\n",
      "Data type of tensor: torch.float32\n",
      "\n",
      "Device of tensor: cpu\n"
     ]
    }
   ],
   "source": [
    "# Exercise 3: Get access to attributes of a tensor\n",
    "tensor = torch.rand(3, 4)  # Initialize a (3 x 4) tensor\n",
    "print(f\"Shape of tensor: {tensor.shape}\")\n",
    "print(f\"\\nData type of tensor: {tensor.dtype}\")\n",
    "print(f\"\\nDevice of tensor: {tensor.device}\")"
   ]
  },
  {
   "cell_type": "code",
   "execution_count": 5,
   "id": "f4f44542-38d2-4192-ac66-da5237e256b9",
   "metadata": {},
   "outputs": [
    {
     "name": "stdout",
     "output_type": "stream",
     "text": [
      "Tensor as:\n",
      "--------------------\n",
      "tensor([[0.1460, 0.2449, 0.6776, 0.8832],\n",
      "        [0.3598, 0.6504, 0.1668, 0.3729],\n",
      "        [0.7560, 0.2195, 0.0565, 0.7923],\n",
      "        [0.3850, 0.0349, 0.3579, 0.9636]])\n",
      "\n",
      "First row of tensor:\n",
      "--------------------\n",
      "tensor([0.1460, 0.2449, 0.6776, 0.8832])\n",
      "\n",
      "Last column of tensor:\n",
      "--------------------\n",
      "tensor([0.8832, 0.3729, 0.7923, 0.9636])\n"
     ]
    }
   ],
   "source": [
    "# Exercise 4: Indexing and slicing\n",
    "tensor = torch.rand(4, 4)  # Initialize a (4 x 4) tensor\n",
    "\n",
    "print(f\"Tensor as:\\n{'-' * 20}\\n{tensor}\")\n",
    "print(f\"\\nFirst row of tensor:\\n{'-' * 20}\\n{tensor[0]}\")\n",
    "print(f\"\\nLast column of tensor:\\n{'-' * 20}\\n{tensor[:, -1]}\")"
   ]
  },
  {
   "cell_type": "code",
   "execution_count": 6,
   "id": "9a6118e6-a00d-456c-9394-360cff556578",
   "metadata": {},
   "outputs": [
    {
     "name": "stdout",
     "output_type": "stream",
     "text": [
      "x as:\n",
      "--------------------\n",
      "tensor([[0.5052, 0.6808, 0.8925, 0.6238],\n",
      "        [0.6911, 0.8440, 0.8700, 0.2320]])\n",
      "\n",
      "After masking:\n",
      "--------------------\n",
      "tensor([[0.5052, 0.0000, 0.8925, 0.6238],\n",
      "        [0.6911, 0.0000, 0.8700, 0.2320]])\n",
      "\n",
      "y as:\n",
      "--------------------\n",
      "tensor([0.6170, 0.7851, 0.5415, 0.3219])\n",
      "\n",
      "After stacking:\n",
      "--------------------\n",
      "tensor([[0.5052, 0.0000, 0.8925, 0.6238],\n",
      "        [0.6911, 0.0000, 0.8700, 0.2320],\n",
      "        [0.6170, 0.7851, 0.5415, 0.3219]])\n"
     ]
    }
   ],
   "source": [
    "# Exercise 5: Manipulation\n",
    "x = torch.rand(2, 4)  # Initialize a (2 x 4) tensor\n",
    "print(f\"x as:\\n{'-' * 20}\\n{x}\")\n",
    "\n",
    "x[:, 1] = 0    # Replace all values of the second column as 0 (masking)\n",
    "print(f\"\\nAfter masking:\\n{'-' * 20}\\n{x}\")\n",
    "\n",
    "y = torch.rand(4)  # Initialize a (1 x 4) tensor\n",
    "print(f\"\\ny as:\\n{'-' * 20}\\n{y}\")\n",
    "\n",
    "xy = torch.vstack([x, y]) # Vertically stack x and y, resulting in a (3 x 4) tensor\n",
    "print(f\"\\nAfter stacking:\\n{'-' * 20}\\n{xy}\")"
   ]
  },
  {
   "cell_type": "code",
   "execution_count": 7,
   "id": "8bf0cac1-0aa9-48be-8bde-897a5baab3ce",
   "metadata": {},
   "outputs": [
    {
     "name": "stdout",
     "output_type": "stream",
     "text": [
      "u:\n",
      "--------------------\n",
      "tensor([[0.8781, 0.4758, 0.8168, 0.9107],\n",
      "        [0.2404, 0.0627, 0.1001, 0.3712],\n",
      "        [0.8064, 0.8749, 0.6726, 0.0964]])\n",
      "\n",
      "v:\n",
      "--------------------\n",
      "tensor([[0.6056, 0.2011],\n",
      "        [0.1883, 0.3200],\n",
      "        [0.0552, 0.3070],\n",
      "        [0.4079, 0.9299]])\n",
      "\n",
      "u @ v:\n",
      "--------------------\n",
      "tensor([[1.0379, 1.4264],\n",
      "        [0.3143, 0.4444],\n",
      "        [0.7295, 0.7382]])\n",
      "\n",
      "u * k:\n",
      "--------------------\n",
      "tensor([[0.6191, 0.3753, 0.5975, 0.3183],\n",
      "        [0.0695, 0.0594, 0.0328, 0.0399],\n",
      "        [0.2583, 0.3704, 0.3397, 0.0514]])\n"
     ]
    }
   ],
   "source": [
    "# Exercise 6: Arithimic operations\n",
    "u = torch.rand(3, 4)  # Initialize a (3 x 4) tensor\n",
    "v = torch.rand(4, 2)  # Initialize a (4 x 2) tensor\n",
    "print(f\"u:\\n{'-' * 20}\\n{u}\")\n",
    "print(f\"\\nv:\\n{'-' * 20}\\n{v}\")\n",
    "\n",
    "u_times_v = u @ v  # multiply u and v using operator ``@``\n",
    "u_times_v = torch.matmul(u, v)  # multiply u and v using instance function ``torch.matmul``\n",
    "print(f\"\\nu @ v:\\n{'-' * 20}\\n{u_times_v}\")\n",
    "\n",
    "k = torch.rand(3, 4)  # Initialize a (3 x 4) tensor\n",
    "u_elem_times_k = u * k  # Compute element-wise product between u and k using ``*``\n",
    "u_elem_times_k = torch.mul(u, k)  # Compute element-wise product between u and k using ``torch.mul``\n",
    "print(f\"\\nu * k:\\n{'-' * 20}\\n{u_elem_times_k}\")"
   ]
  },
  {
   "cell_type": "markdown",
   "id": "a0e6e68e-6738-4489-8b63-72f6c138f7df",
   "metadata": {},
   "source": [
    "## Datasets & Dataloaders"
   ]
  },
  {
   "cell_type": "markdown",
   "id": "25f21b82-f009-414b-a677-08fd81d6fd51",
   "metadata": {},
   "source": [
    "### Introduction\n",
    "Date preprocessing is one of the most fundamental and essential step among the standard pipeline training a neural network. Specifically, in NLP task, this step would do feature representation which translates a text data into numerical values. Commonly, this step does following things:\n",
    "* Clean and organize text data (e.g. remove punctuations, special characters and split dataset)\n",
    "* Featurize text to numerics, which may include below steps\n",
    "  * Build vocabulary from corpus\n",
    "  * Figure out how to numerically represent (or encode) a string given the vocabulary\n",
    "    * sparse encoding?\n",
    "    * dense encoding?\n",
    "  * Encode labels\n",
    "\n",
    "Eventually, implement above steps using python class or functions and integrate them with PyTorch's `torch.utils.data.Dataset` class.\n",
    "\n",
    "### PyTorch dataset and dataloaders\n",
    "`Dataset` can be thought as a list of data samples, which means it is indexed like a python list. Normally, this class includes the implementation of featurization, so accessing an individual sample returns numerical values. \n",
    "\n",
    "`DataLoader` wraps an iterable around a `Dataset` object so it's memory efficient in the training loop (recall python's generator), and it's capable of batchifying the data."
   ]
  },
  {
   "cell_type": "markdown",
   "id": "12488e6e-8336-40c5-b30a-1a1c7b84e964",
   "metadata": {},
   "source": [
    "### Exercise: preprocess dataset"
   ]
  },
  {
   "cell_type": "code",
   "execution_count": 1,
   "id": "af89387c-65d0-43bf-9d16-1fea15b15d0e",
   "metadata": {},
   "outputs": [],
   "source": [
    "from typing import Dict, List, Tuple\n",
    "from torch.utils.data import Dataset, DataLoader"
   ]
  },
  {
   "cell_type": "code",
   "execution_count": 2,
   "id": "8fec389c-72a6-4bd4-a4bc-ece42464457e",
   "metadata": {},
   "outputs": [],
   "source": [
    "# Below corpus is generated by AI\n",
    "corpus = \"\"\"\n",
    "The old bookstore on the corner smelled of paper and dust\n",
    "Have you ever wondered what lies beyond the farthest star\n",
    "Please hand me the blue folder from the top shelf\n",
    "Although the weather was cold, we enjoyed our walk along the beach\n",
    "What an incredible view from the mountaintop\n",
    "He practiced the piano for an hour every day; his dedication was admirable\n",
    "The new software update will be installed automatically tonight\n",
    "She brewed a cup of tea and watched the rain fall outside her window\n",
    "Innovation often arises from the intersection of different fields of study\n",
    "The children laughed as the puppy chased its tail in circles\n",
    "Can we reschedule our meeting for early next week\n",
    "The project was a success, but there were many challenges along the way\n",
    "\"\"\"\n",
    "\n",
    "# Generate synthetic labels\n",
    "labels = ['y', 'n', 'n', 'n', 'y', 'y', 'n', 'n', 'y', 'y']"
   ]
  },
  {
   "cell_type": "code",
   "execution_count": 10,
   "id": "0dd9ece7-bc84-4940-a8e7-b09d9a16ab22",
   "metadata": {
    "scrolled": true
   },
   "outputs": [
    {
     "data": {
      "text/plain": [
       "['the',\n",
       " 'old',\n",
       " 'bookstore',\n",
       " 'on',\n",
       " 'the',\n",
       " 'corner',\n",
       " 'smelled',\n",
       " 'of',\n",
       " 'paper',\n",
       " 'and',\n",
       " 'dust',\n",
       " 'have',\n",
       " 'you',\n",
       " 'ever',\n",
       " 'wondered',\n",
       " 'what',\n",
       " 'lies',\n",
       " 'beyond',\n",
       " 'the',\n",
       " 'farthest',\n",
       " 'star',\n",
       " 'please',\n",
       " 'hand',\n",
       " 'me',\n",
       " 'the',\n",
       " 'blue',\n",
       " 'folder',\n",
       " 'from',\n",
       " 'the',\n",
       " 'top',\n",
       " 'shelf',\n",
       " 'although',\n",
       " 'the',\n",
       " 'weather',\n",
       " 'was',\n",
       " 'cold,',\n",
       " 'we',\n",
       " 'enjoyed',\n",
       " 'our',\n",
       " 'walk',\n",
       " 'along',\n",
       " 'the',\n",
       " 'beach',\n",
       " 'what',\n",
       " 'an',\n",
       " 'incredible',\n",
       " 'view',\n",
       " 'from',\n",
       " 'the',\n",
       " 'mountaintop',\n",
       " 'he',\n",
       " 'practiced',\n",
       " 'the',\n",
       " 'piano',\n",
       " 'for',\n",
       " 'an',\n",
       " 'hour',\n",
       " 'every',\n",
       " 'day;',\n",
       " 'his',\n",
       " 'dedication',\n",
       " 'was',\n",
       " 'admirable',\n",
       " 'the',\n",
       " 'new',\n",
       " 'software',\n",
       " 'update',\n",
       " 'will',\n",
       " 'be',\n",
       " 'installed',\n",
       " 'automatically',\n",
       " 'tonight',\n",
       " 'she',\n",
       " 'brewed',\n",
       " 'a',\n",
       " 'cup',\n",
       " 'of',\n",
       " 'tea',\n",
       " 'and',\n",
       " 'watched',\n",
       " 'the',\n",
       " 'rain',\n",
       " 'fall',\n",
       " 'outside',\n",
       " 'her',\n",
       " 'window',\n",
       " 'innovation',\n",
       " 'often',\n",
       " 'arises',\n",
       " 'from',\n",
       " 'the',\n",
       " 'intersection',\n",
       " 'of',\n",
       " 'different',\n",
       " 'fields',\n",
       " 'of',\n",
       " 'study',\n",
       " 'the',\n",
       " 'children',\n",
       " 'laughed',\n",
       " 'as',\n",
       " 'the',\n",
       " 'puppy',\n",
       " 'chased',\n",
       " 'its',\n",
       " 'tail',\n",
       " 'in',\n",
       " 'circles',\n",
       " 'can',\n",
       " 'we',\n",
       " 'reschedule',\n",
       " 'our',\n",
       " 'meeting',\n",
       " 'for',\n",
       " 'early',\n",
       " 'next',\n",
       " 'week',\n",
       " 'the',\n",
       " 'project',\n",
       " 'was',\n",
       " 'a',\n",
       " 'success,',\n",
       " 'but',\n",
       " 'there',\n",
       " 'were',\n",
       " 'many',\n",
       " 'challenges',\n",
       " 'along',\n",
       " 'the',\n",
       " 'way']"
      ]
     },
     "execution_count": 10,
     "metadata": {},
     "output_type": "execute_result"
    }
   ],
   "source": [
    "# Exercise 1: Implement functions for tokenizing data\n",
    "def tokenize(instance: str) -> List[str]:\n",
    "    \"\"\"Tokenize a text data instance into a list features\"\"\"\n",
    "    return instance.lower().strip().split()\n",
    "\n",
    "words = []\n",
    "\n",
    "for sentence in corpus.split('\\n'):\n",
    "    words.extend(tokenize(sentence))\n",
    "\n",
    "words"
   ]
  },
  {
   "cell_type": "code",
   "execution_count": 11,
   "id": "91e887e4-d434-4dbc-8708-c87f9363f5ec",
   "metadata": {},
   "outputs": [],
   "source": [
    "# Exercise 2: Implement functions for building vocabulary and label map\n",
    "def build_vocabulary(tokens: List[str], most_common: int) -> Dict[str, int]:\n",
    "    from collections import Counter\n",
    "\n",
    "    word_freq = Counter(tokens).most_common(most_common)\n",
    "    vocab = [word for word, _ in word_freq]\n",
    "    vocab.extend(['<PAD>', '<UNK>'])\n",
    "\n",
    "    return {w: i for i, w in enumerate(vocab)}\n",
    "\n",
    "\n",
    "def build_label_map(labels: List[str]) -> Dict[str, int]:\n",
    "    label_set = set(labels)\n",
    "\n",
    "    return {label: i for i, label in enumerate(label_set)}"
   ]
  },
  {
   "cell_type": "code",
   "execution_count": 12,
   "id": "c13d06e9-b89f-4732-8439-3efa1642274e",
   "metadata": {},
   "outputs": [
    {
     "name": "stdout",
     "output_type": "stream",
     "text": [
      "Vocabulary with most frequent 5 words:\n",
      "--------------------------------------------------\n",
      "{'the': 0, 'of': 1, 'from': 2, 'was': 3, 'and': 4, '<PAD>': 5, '<UNK>': 6}\n",
      "\n",
      "Label map:\n",
      "--------------------------------------------------\n",
      "{'n': 0, 'y': 1}\n"
     ]
    }
   ],
   "source": [
    "k = 5\n",
    "vocab = build_vocabulary(words, k)\n",
    "label_map = build_label_map(labels)\n",
    "\n",
    "print(f\"Vocabulary with most frequent {k} words:\\n{'-' * 50}\\n{vocab}\")\n",
    "print(f\"\\nLabel map:\\n{'-' * 50}\\n{label_map}\")"
   ]
  },
  {
   "cell_type": "code",
   "execution_count": 13,
   "id": "a32460d7-ba73-478d-b495-cf774d9065ba",
   "metadata": {},
   "outputs": [],
   "source": [
    "# Exercise 3: Implement functions for featurizing processed data into numerical representations\n",
    "def to_sparse_vector(instance: str, vocab: Dict[str, int]) -> List[int]:\n",
    "    \"\"\"Encode a sentence to a sparse vector by multi-hot encoding\"\"\"\n",
    "    features = tokenize(instance)\n",
    "\n",
    "    return [1 if elem in set(features) else 0 for elem in vocab]\n",
    "    \n",
    "\n",
    "def to_dense_vector(instance: str, vocab: Dict[str, int]) -> List[int]:\n",
    "    \"\"\"Encode a sentence as a list of integers\"\"\"\n",
    "    features = tokenize(instance)\n",
    "\n",
    "    return [vocab.get(feature, vocab['<UNK>']) for feature in features]"
   ]
  },
  {
   "cell_type": "code",
   "execution_count": 14,
   "id": "61567ad8-c8c2-439b-8e35-8c0ab52d95ed",
   "metadata": {},
   "outputs": [],
   "source": [
    "sparse_vector = [to_sparse_vector(sentence, vocab) for sentence in corpus.strip().split('\\n')]\n",
    "dense_vector = [to_dense_vector(sentence, vocab) for sentence in corpus.strip().split('\\n')]"
   ]
  },
  {
   "cell_type": "code",
   "execution_count": 15,
   "id": "b026c832-da6a-492e-a081-5e264d4025b8",
   "metadata": {},
   "outputs": [
    {
     "data": {
      "text/plain": [
       "[[1, 1, 0, 0, 1, 0, 0],\n",
       " [1, 0, 0, 0, 0, 0, 0],\n",
       " [1, 0, 1, 0, 0, 0, 0],\n",
       " [1, 0, 0, 1, 0, 0, 0],\n",
       " [1, 0, 1, 0, 0, 0, 0],\n",
       " [1, 0, 0, 1, 0, 0, 0],\n",
       " [1, 0, 0, 0, 0, 0, 0],\n",
       " [1, 1, 0, 0, 1, 0, 0],\n",
       " [1, 1, 1, 0, 0, 0, 0],\n",
       " [1, 0, 0, 0, 0, 0, 0],\n",
       " [0, 0, 0, 0, 0, 0, 0],\n",
       " [1, 0, 0, 1, 0, 0, 0]]"
      ]
     },
     "execution_count": 15,
     "metadata": {},
     "output_type": "execute_result"
    }
   ],
   "source": [
    "sparse_vector"
   ]
  },
  {
   "cell_type": "code",
   "execution_count": 16,
   "id": "d07efc6f-ddaf-4bae-9adf-0692d6941a1a",
   "metadata": {},
   "outputs": [
    {
     "data": {
      "text/plain": [
       "[[0, 6, 6, 6, 0, 6, 6, 1, 6, 4, 6],\n",
       " [6, 6, 6, 6, 6, 6, 6, 0, 6, 6],\n",
       " [6, 6, 6, 0, 6, 6, 2, 0, 6, 6],\n",
       " [6, 0, 6, 3, 6, 6, 6, 6, 6, 6, 0, 6],\n",
       " [6, 6, 6, 6, 2, 0, 6],\n",
       " [6, 6, 0, 6, 6, 6, 6, 6, 6, 6, 6, 3, 6],\n",
       " [0, 6, 6, 6, 6, 6, 6, 6, 6],\n",
       " [6, 6, 6, 6, 1, 6, 4, 6, 0, 6, 6, 6, 6, 6],\n",
       " [6, 6, 6, 2, 0, 6, 1, 6, 6, 1, 6],\n",
       " [0, 6, 6, 6, 0, 6, 6, 6, 6, 6, 6],\n",
       " [6, 6, 6, 6, 6, 6, 6, 6, 6],\n",
       " [0, 6, 3, 6, 6, 6, 6, 6, 6, 6, 6, 0, 6]]"
      ]
     },
     "execution_count": 16,
     "metadata": {},
     "output_type": "execute_result"
    }
   ],
   "source": [
    "dense_vector"
   ]
  },
  {
   "cell_type": "code",
   "execution_count": 18,
   "id": "c8ca5795-4685-4b54-91f5-f182b77d137d",
   "metadata": {},
   "outputs": [],
   "source": [
    "# Exercise 3: Implement the custom dataset using ``Dataset``\n",
    "class CustomDataset(Dataset):\n",
    "    def __init__(self, corpus: str, labels: List[str], k: int):\n",
    "        # Step 1: Split corpus into sentences, and tokens\n",
    "        self.instances = corpus.strip().split('\\n')\n",
    "        self.labels = labels\n",
    "        tokens = []\n",
    "\n",
    "        for instance in self.instances:\n",
    "            tokens.extend(tokenize(instance))\n",
    "\n",
    "        # Step 2: Build vocabulary and label map\n",
    "        self.vocab = build_vocabulary(tokens, k)\n",
    "        self.label_map = build_label_map(labels)\n",
    "\n",
    "    def __len__(self) -> int:\n",
    "        return len(self.instances)\n",
    "\n",
    "    def __getitem__(self, idx: int) -> Tuple[torch.Tensor, torch.Tensor, torch.Tensor]:\n",
    "        instance = self.instances[idx]\n",
    "        \n",
    "        label_val = torch.tensor(self.label_map[self.labels[idx]], dtype=torch.long)\n",
    "        \n",
    "        sparse_vec = torch.tensor(to_sparse_vector(instance, self.vocab), dtype=torch.long)\n",
    "        dense_vec = torch.tensor(to_dense_vector(instance, self.vocab), dtype=torch.long)\n",
    "\n",
    "        return sparse_vec, dense_vec, label_val"
   ]
  },
  {
   "cell_type": "code",
   "execution_count": 19,
   "id": "647723a0-4ac4-4566-be12-000cca7d245d",
   "metadata": {},
   "outputs": [],
   "source": [
    "corpus_dataset = CustomDataset(corpus, labels, 5)"
   ]
  },
  {
   "cell_type": "code",
   "execution_count": 21,
   "id": "7857bb98-3a3f-4de8-8497-71fdbc63c74c",
   "metadata": {},
   "outputs": [
    {
     "name": "stdout",
     "output_type": "stream",
     "text": [
      "Length of the dataset is 12\n",
      "\n",
      "For the 4 th element of the dataset:\n",
      "--------------------------------------------------\n",
      "\n",
      "Sparse vector:\n",
      "----------\n",
      "tensor([1, 0, 0, 1, 0, 0, 0])\n",
      "\n",
      "Dense vector:\n",
      "----------\n",
      "tensor([6, 0, 6, 3, 6, 6, 6, 6, 6, 6, 0, 6])\n",
      "\n",
      "Label:\n",
      "----------\n",
      "0\n"
     ]
    }
   ],
   "source": [
    "print(f\"Length of the dataset is {len(corpus_dataset)}\")\n",
    "\n",
    "i = 3\n",
    "sp_v, ds_v, y = corpus_dataset[i]\n",
    "print(f\"\\nFor the {i+1} th element of the dataset:\\n{'-' * 50}\")\n",
    "print(f\"\\nSparse vector:\\n{'-' * 10}\\n{sp_v}\")\n",
    "print(f\"\\nDense vector:\\n{'-' * 10}\\n{ds_v}\")\n",
    "print(f\"\\nLabel:\\n{'-' * 10}\\n{y}\")"
   ]
  },
  {
   "cell_type": "markdown",
   "id": "a27b0213-19c0-45fe-8948-da97c19187cc",
   "metadata": {},
   "source": [
    "## Build neural networks"
   ]
  },
  {
   "cell_type": "markdown",
   "id": "11098e8b-f1cf-4efd-8438-d8d2661a956d",
   "metadata": {},
   "source": [
    "## Training"
   ]
  },
  {
   "cell_type": "code",
   "execution_count": null,
   "id": "742c95c9-1591-451e-99c3-106d2b49c7ff",
   "metadata": {},
   "outputs": [],
   "source": []
  }
 ],
 "metadata": {
  "kernelspec": {
   "display_name": "recitation",
   "language": "python",
   "name": "recitation"
  },
  "language_info": {
   "codemirror_mode": {
    "name": "ipython",
    "version": 3
   },
   "file_extension": ".py",
   "mimetype": "text/x-python",
   "name": "python",
   "nbconvert_exporter": "python",
   "pygments_lexer": "ipython3",
   "version": "3.11.13"
  }
 },
 "nbformat": 4,
 "nbformat_minor": 5
}

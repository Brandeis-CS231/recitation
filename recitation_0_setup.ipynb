{
 "cells": [
  {
   "cell_type": "markdown",
   "id": "9ad3edb7-e692-47eb-8ea5-ecae3f4db9a6",
   "metadata": {},
   "source": [
    "# Recitation 0: Setup for course\n",
    "_Date_: 2025-08-28"
   ]
  }
 ],
 "metadata": {
  "kernelspec": {
   "display_name": "recitation",
   "language": "python",
   "name": "recitation"
  },
  "language_info": {
   "codemirror_mode": {
    "name": "ipython",
    "version": 3
   },
   "file_extension": ".py",
   "mimetype": "text/x-python",
   "name": "python",
   "nbconvert_exporter": "python",
   "pygments_lexer": "ipython3",
   "version": "3.11.13"
  }
 },
 "nbformat": 4,
 "nbformat_minor": 5
}
